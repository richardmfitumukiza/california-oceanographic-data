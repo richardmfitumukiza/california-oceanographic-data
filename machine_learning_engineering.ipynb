{
 "cells": [
  {
   "cell_type": "markdown",
   "metadata": {},
   "source": [
    "# Pacific Ocean Salinity Prediction Project"
   ]
  },
  {
   "cell_type": "markdown",
   "metadata": {},
   "source": [
    "## 1. Project Definition"
   ]
  },
  {
   "cell_type": "markdown",
   "metadata": {},
   "source": [
    "### 1.1 Author: Richard Mfitumukiza"
   ]
  },
  {
   "cell_type": "markdown",
   "metadata": {},
   "source": [
    "### 1.2 Goals\n",
    "The  California Cooperative Oceanic Fisheries Investigations (CalCOFI) data set represents the longest (1949-present) and most complete (more than 50,000 sampling stations) time series of oceanographic and larval fish data in the world. The file contains data collected at depths down to 500m which include: temperature, salinity, oxygen, phosphate, silicate, nitrate and nitrite, chlorophyll, transmissometer, PAR, C14 primary productivity, phytoplankton biodiversity, zooplankton biomass, and zooplankton biodiversity.\n",
    "\n",
    "**The goal of this project is to learn how to use machine learning in ecosystem and biodiversity management; by predicting ocean salinity level based on historical data.**\n"
   ]
  },
  {
   "cell_type": "markdown",
   "metadata": {},
   "source": [
    "### 1.3 Objectives\n",
    "The objective is to use Machine Learning to create a model that predicts pacific ocean salinity level; based on the dataset  available on [Kaggle](https://www.kaggle.com/sohier/calcofi).  "
   ]
  },
  {
   "cell_type": "markdown",
   "metadata": {
    "tags": []
   },
   "source": [
    "### 1.4 Requirements\n",
    "I am required to:\n",
    "- use Kaggle [dataset](https://www.kaggle.com/sohier/calcofi),\n",
    "- create a machine learning model,\n",
    "- run a prediction on dataset"
   ]
  },
  {
   "cell_type": "markdown",
   "metadata": {},
   "source": [
    "---"
   ]
  },
  {
   "cell_type": "markdown",
   "metadata": {},
   "source": [
    "## 2. Project Planning Summary"
   ]
  },
  {
   "cell_type": "markdown",
   "metadata": {},
   "source": [
    "### 2.1 Work breakdown\n",
    "- use Kaggle [dataset](https://www.kaggle.com/sohier/calcofi),\n",
    "    - Download dataset from kaggle.com to local machine\n",
    "    - Prepare dataset and make it ready for usage in subsequent steps\n",
    "- create a machine learning model,\n",
    "    - Exploratory Data Analysis\n",
    "        - Raw data exploration\n",
    "        - Feature engineering\n",
    "        - Analysis\n",
    "    - Machine Learning Modelling\n",
    "        - Split into train, validate, test sets\n",
    "        - train models\n",
    "        - neural network models\n",
    "        - ensemble models\n",
    "- run a prediction on the dataset"
   ]
  },
  {
   "cell_type": "markdown",
   "metadata": {},
   "source": [
    "### 2.2 Resources identification\n",
    "- Links\n",
    "    - context: https://www.kaggle.com/sohier/calcofi\n",
    "    - dataset: https://www.kaggle.com/sohier/calcofi"
   ]
  },
  {
   "cell_type": "markdown",
   "metadata": {},
   "source": [
    "---"
   ]
  },
  {
   "cell_type": "markdown",
   "metadata": {},
   "source": [
    "## 3. Execution : Data science"
   ]
  },
  {
   "cell_type": "markdown",
   "metadata": {
    "id": "u3AbSJRITo49"
   },
   "source": [
    "## Import Libraries"
   ]
  },
  {
   "cell_type": "code",
   "execution_count": 1,
   "metadata": {
    "id": "MzhNqWrHUHy4"
   },
   "outputs": [
    {
     "name": "stdout",
     "output_type": "stream",
     "text": [
      "Numpy version: 1.20.3\n",
      "Pandas version: 1.2.3\n",
      "Matplotlib version: 3.2.2\n",
      "Seaborn version: 0.11.2\n",
      "sklearn version: 1.20.3\n"
     ]
    }
   ],
   "source": [
    "import numpy as np \n",
    "import pandas as pd \n",
    "import operator\n",
    "\n",
    "import matplotlib as mpl\n",
    "import matplotlib.pyplot as plt\n",
    "import seaborn as sns\n",
    "\n",
    "from sklearn.preprocessing import StandardScaler\n",
    "from sklearn.feature_selection import RFE, RFECV\n",
    "from sklearn.linear_model import LinearRegression\n",
    "from sklearn.model_selection import train_test_split, cross_val_score, cross_val_predict\n",
    "from sklearn.model_selection import GridSearchCV\n",
    "from sklearn.ensemble import RandomForestRegressor, AdaBoostRegressor, GradientBoostingRegressor\n",
    "from sklearn.metrics import mean_squared_error\n",
    "\n",
    "import warnings\n",
    "warnings.filterwarnings(\"ignore\")\n",
    "\n",
    "print('Numpy version:',np.__version__)\n",
    "print('Pandas version:',pd.__version__)\n",
    "print('Matplotlib version:',mpl.__version__)\n",
    "print('Seaborn version:',sns.__version__)\n",
    "#print('Bokeh version:',np.__version__)\n",
    "print('sklearn version:',np.__version__)\n",
    "\n",
    "STATE = 2022"
   ]
  },
  {
   "cell_type": "markdown",
   "metadata": {
    "id": "5VRWrVBzUUxN"
   },
   "source": [
    "### Load Data"
   ]
  },
  {
   "cell_type": "code",
   "execution_count": 2,
   "metadata": {
    "id": "qmgKCmUwUVxZ"
   },
   "outputs": [],
   "source": [
    "# Data credits: https://www.kaggle.com/sohier/calcofi\n",
    "url = \"https://www.dropbox.com/s/cw853brhdw7hilp/bottle.csv?dl=1\"\n",
    "local_bottles_file = 'bottle.csv'\n",
    "salinity_df = pd.read_csv(local_bottles_file)"
   ]
  },
  {
   "cell_type": "code",
   "execution_count": 3,
   "metadata": {
    "colab": {
     "base_uri": "https://localhost:8080/"
    },
    "id": "cKJkzTBxk-G4",
    "outputId": "2a788c44-ab76-4967-dbe9-e63178e853ec"
   },
   "outputs": [
    {
     "data": {
      "text/plain": [
       "Index(['Cst_Cnt', 'Btl_Cnt', 'Sta_ID', 'Depth_ID', 'Depthm', 'T_degC',\n",
       "       'Salnty', 'O2ml_L', 'STheta', 'O2Sat', 'Oxy_µmol/Kg', 'BtlNum',\n",
       "       'RecInd', 'T_prec', 'T_qual', 'S_prec', 'S_qual', 'P_qual', 'O_qual',\n",
       "       'SThtaq', 'O2Satq', 'ChlorA', 'Chlqua', 'Phaeop', 'Phaqua', 'PO4uM',\n",
       "       'PO4q', 'SiO3uM', 'SiO3qu', 'NO2uM', 'NO2q', 'NO3uM', 'NO3q', 'NH3uM',\n",
       "       'NH3q', 'C14As1', 'C14A1p', 'C14A1q', 'C14As2', 'C14A2p', 'C14A2q',\n",
       "       'DarkAs', 'DarkAp', 'DarkAq', 'MeanAs', 'MeanAp', 'MeanAq', 'IncTim',\n",
       "       'LightP', 'R_Depth', 'R_TEMP', 'R_POTEMP', 'R_SALINITY', 'R_SIGMA',\n",
       "       'R_SVA', 'R_DYNHT', 'R_O2', 'R_O2Sat', 'R_SIO3', 'R_PO4', 'R_NO3',\n",
       "       'R_NO2', 'R_NH4', 'R_CHLA', 'R_PHAEO', 'R_PRES', 'R_SAMP', 'DIC1',\n",
       "       'DIC2', 'TA1', 'TA2', 'pH2', 'pH1', 'DIC Quality Comment'],\n",
       "      dtype='object')"
      ]
     },
     "execution_count": 3,
     "metadata": {},
     "output_type": "execute_result"
    }
   ],
   "source": [
    "salinity_df.columns"
   ]
  },
  {
   "cell_type": "markdown",
   "metadata": {
    "id": "iU4WIU5Xl7AM"
   },
   "source": [
    "### Statistical Summary"
   ]
  },
  {
   "cell_type": "code",
   "execution_count": 4,
   "metadata": {
    "colab": {
     "base_uri": "https://localhost:8080/",
     "height": 364
    },
    "id": "UGtnW6Wxb_0m",
    "outputId": "95f2cd96-c100-486c-d590-548fdeca4f7a"
   },
   "outputs": [
    {
     "data": {
      "text/html": [
       "<div>\n",
       "<style scoped>\n",
       "    .dataframe tbody tr th:only-of-type {\n",
       "        vertical-align: middle;\n",
       "    }\n",
       "\n",
       "    .dataframe tbody tr th {\n",
       "        vertical-align: top;\n",
       "    }\n",
       "\n",
       "    .dataframe thead th {\n",
       "        text-align: right;\n",
       "    }\n",
       "</style>\n",
       "<table border=\"1\" class=\"dataframe\">\n",
       "  <thead>\n",
       "    <tr style=\"text-align: right;\">\n",
       "      <th></th>\n",
       "      <th>Cst_Cnt</th>\n",
       "      <th>Btl_Cnt</th>\n",
       "      <th>Depthm</th>\n",
       "      <th>T_degC</th>\n",
       "      <th>salinity</th>\n",
       "      <th>O2ml_L</th>\n",
       "      <th>STheta</th>\n",
       "      <th>O2Sat</th>\n",
       "      <th>Oxy_µmol/Kg</th>\n",
       "      <th>BtlNum</th>\n",
       "      <th>...</th>\n",
       "      <th>R_CHLA</th>\n",
       "      <th>R_PHAEO</th>\n",
       "      <th>R_PRES</th>\n",
       "      <th>R_SAMP</th>\n",
       "      <th>DIC1</th>\n",
       "      <th>DIC2</th>\n",
       "      <th>TA1</th>\n",
       "      <th>TA2</th>\n",
       "      <th>pH2</th>\n",
       "      <th>pH1</th>\n",
       "    </tr>\n",
       "  </thead>\n",
       "  <tbody>\n",
       "    <tr>\n",
       "      <th>count</th>\n",
       "      <td>149999.000000</td>\n",
       "      <td>149999.000000</td>\n",
       "      <td>149999.000000</td>\n",
       "      <td>145392.000000</td>\n",
       "      <td>117591.000000</td>\n",
       "      <td>128474.000000</td>\n",
       "      <td>115078.000000</td>\n",
       "      <td>102277.000000</td>\n",
       "      <td>102277.000000</td>\n",
       "      <td>0.0</td>\n",
       "      <td>...</td>\n",
       "      <td>0.0</td>\n",
       "      <td>0.0</td>\n",
       "      <td>149999.000000</td>\n",
       "      <td>0.0</td>\n",
       "      <td>0.0</td>\n",
       "      <td>0.0</td>\n",
       "      <td>0.0</td>\n",
       "      <td>0.0</td>\n",
       "      <td>0.0</td>\n",
       "      <td>0.0</td>\n",
       "    </tr>\n",
       "    <tr>\n",
       "      <th>mean</th>\n",
       "      <td>2604.606897</td>\n",
       "      <td>75001.000000</td>\n",
       "      <td>324.759678</td>\n",
       "      <td>9.513042</td>\n",
       "      <td>33.874505</td>\n",
       "      <td>2.879955</td>\n",
       "      <td>26.042581</td>\n",
       "      <td>48.096165</td>\n",
       "      <td>127.067193</td>\n",
       "      <td>NaN</td>\n",
       "      <td>...</td>\n",
       "      <td>NaN</td>\n",
       "      <td>NaN</td>\n",
       "      <td>327.243428</td>\n",
       "      <td>NaN</td>\n",
       "      <td>NaN</td>\n",
       "      <td>NaN</td>\n",
       "      <td>NaN</td>\n",
       "      <td>NaN</td>\n",
       "      <td>NaN</td>\n",
       "      <td>NaN</td>\n",
       "    </tr>\n",
       "    <tr>\n",
       "      <th>std</th>\n",
       "      <td>1610.368969</td>\n",
       "      <td>43301.125851</td>\n",
       "      <td>370.746417</td>\n",
       "      <td>4.392547</td>\n",
       "      <td>0.508465</td>\n",
       "      <td>2.145869</td>\n",
       "      <td>1.063962</td>\n",
       "      <td>37.726776</td>\n",
       "      <td>93.779254</td>\n",
       "      <td>NaN</td>\n",
       "      <td>...</td>\n",
       "      <td>NaN</td>\n",
       "      <td>NaN</td>\n",
       "      <td>374.387344</td>\n",
       "      <td>NaN</td>\n",
       "      <td>NaN</td>\n",
       "      <td>NaN</td>\n",
       "      <td>NaN</td>\n",
       "      <td>NaN</td>\n",
       "      <td>NaN</td>\n",
       "      <td>NaN</td>\n",
       "    </tr>\n",
       "    <tr>\n",
       "      <th>min</th>\n",
       "      <td>1.000000</td>\n",
       "      <td>2.000000</td>\n",
       "      <td>0.000000</td>\n",
       "      <td>1.540000</td>\n",
       "      <td>30.250000</td>\n",
       "      <td>0.000000</td>\n",
       "      <td>21.713000</td>\n",
       "      <td>0.000000</td>\n",
       "      <td>0.000000</td>\n",
       "      <td>NaN</td>\n",
       "      <td>...</td>\n",
       "      <td>NaN</td>\n",
       "      <td>NaN</td>\n",
       "      <td>0.000000</td>\n",
       "      <td>NaN</td>\n",
       "      <td>NaN</td>\n",
       "      <td>NaN</td>\n",
       "      <td>NaN</td>\n",
       "      <td>NaN</td>\n",
       "      <td>NaN</td>\n",
       "      <td>NaN</td>\n",
       "    </tr>\n",
       "    <tr>\n",
       "      <th>25%</th>\n",
       "      <td>1212.000000</td>\n",
       "      <td>37501.500000</td>\n",
       "      <td>50.000000</td>\n",
       "      <td>5.940000</td>\n",
       "      <td>33.480000</td>\n",
       "      <td>0.650000</td>\n",
       "      <td>25.125000</td>\n",
       "      <td>9.500000</td>\n",
       "      <td>29.152720</td>\n",
       "      <td>NaN</td>\n",
       "      <td>...</td>\n",
       "      <td>NaN</td>\n",
       "      <td>NaN</td>\n",
       "      <td>50.000000</td>\n",
       "      <td>NaN</td>\n",
       "      <td>NaN</td>\n",
       "      <td>NaN</td>\n",
       "      <td>NaN</td>\n",
       "      <td>NaN</td>\n",
       "      <td>NaN</td>\n",
       "      <td>NaN</td>\n",
       "    </tr>\n",
       "    <tr>\n",
       "      <th>50%</th>\n",
       "      <td>2508.000000</td>\n",
       "      <td>75001.000000</td>\n",
       "      <td>178.000000</td>\n",
       "      <td>8.860000</td>\n",
       "      <td>33.964000</td>\n",
       "      <td>2.540000</td>\n",
       "      <td>26.317000</td>\n",
       "      <td>39.400000</td>\n",
       "      <td>112.698300</td>\n",
       "      <td>NaN</td>\n",
       "      <td>...</td>\n",
       "      <td>NaN</td>\n",
       "      <td>NaN</td>\n",
       "      <td>179.000000</td>\n",
       "      <td>NaN</td>\n",
       "      <td>NaN</td>\n",
       "      <td>NaN</td>\n",
       "      <td>NaN</td>\n",
       "      <td>NaN</td>\n",
       "      <td>NaN</td>\n",
       "      <td>NaN</td>\n",
       "    </tr>\n",
       "    <tr>\n",
       "      <th>75%</th>\n",
       "      <td>3927.000000</td>\n",
       "      <td>112500.500000</td>\n",
       "      <td>500.000000</td>\n",
       "      <td>12.470000</td>\n",
       "      <td>34.322000</td>\n",
       "      <td>5.170000</td>\n",
       "      <td>26.948000</td>\n",
       "      <td>89.900000</td>\n",
       "      <td>227.461000</td>\n",
       "      <td>NaN</td>\n",
       "      <td>...</td>\n",
       "      <td>NaN</td>\n",
       "      <td>NaN</td>\n",
       "      <td>503.000000</td>\n",
       "      <td>NaN</td>\n",
       "      <td>NaN</td>\n",
       "      <td>NaN</td>\n",
       "      <td>NaN</td>\n",
       "      <td>NaN</td>\n",
       "      <td>NaN</td>\n",
       "      <td>NaN</td>\n",
       "    </tr>\n",
       "    <tr>\n",
       "      <th>max</th>\n",
       "      <td>5676.000000</td>\n",
       "      <td>150000.000000</td>\n",
       "      <td>3762.000000</td>\n",
       "      <td>28.540000</td>\n",
       "      <td>35.280000</td>\n",
       "      <td>8.710000</td>\n",
       "      <td>28.083000</td>\n",
       "      <td>143.400000</td>\n",
       "      <td>380.014900</td>\n",
       "      <td>NaN</td>\n",
       "      <td>...</td>\n",
       "      <td>NaN</td>\n",
       "      <td>NaN</td>\n",
       "      <td>3818.000000</td>\n",
       "      <td>NaN</td>\n",
       "      <td>NaN</td>\n",
       "      <td>NaN</td>\n",
       "      <td>NaN</td>\n",
       "      <td>NaN</td>\n",
       "      <td>NaN</td>\n",
       "      <td>NaN</td>\n",
       "    </tr>\n",
       "  </tbody>\n",
       "</table>\n",
       "<p>8 rows × 70 columns</p>\n",
       "</div>"
      ],
      "text/plain": [
       "             Cst_Cnt        Btl_Cnt         Depthm         T_degC  \\\n",
       "count  149999.000000  149999.000000  149999.000000  145392.000000   \n",
       "mean     2604.606897   75001.000000     324.759678       9.513042   \n",
       "std      1610.368969   43301.125851     370.746417       4.392547   \n",
       "min         1.000000       2.000000       0.000000       1.540000   \n",
       "25%      1212.000000   37501.500000      50.000000       5.940000   \n",
       "50%      2508.000000   75001.000000     178.000000       8.860000   \n",
       "75%      3927.000000  112500.500000     500.000000      12.470000   \n",
       "max      5676.000000  150000.000000    3762.000000      28.540000   \n",
       "\n",
       "            salinity         O2ml_L         STheta          O2Sat  \\\n",
       "count  117591.000000  128474.000000  115078.000000  102277.000000   \n",
       "mean       33.874505       2.879955      26.042581      48.096165   \n",
       "std         0.508465       2.145869       1.063962      37.726776   \n",
       "min        30.250000       0.000000      21.713000       0.000000   \n",
       "25%        33.480000       0.650000      25.125000       9.500000   \n",
       "50%        33.964000       2.540000      26.317000      39.400000   \n",
       "75%        34.322000       5.170000      26.948000      89.900000   \n",
       "max        35.280000       8.710000      28.083000     143.400000   \n",
       "\n",
       "         Oxy_µmol/Kg  BtlNum  ...  R_CHLA  R_PHAEO         R_PRES  R_SAMP  \\\n",
       "count  102277.000000     0.0  ...     0.0      0.0  149999.000000     0.0   \n",
       "mean      127.067193     NaN  ...     NaN      NaN     327.243428     NaN   \n",
       "std        93.779254     NaN  ...     NaN      NaN     374.387344     NaN   \n",
       "min         0.000000     NaN  ...     NaN      NaN       0.000000     NaN   \n",
       "25%        29.152720     NaN  ...     NaN      NaN      50.000000     NaN   \n",
       "50%       112.698300     NaN  ...     NaN      NaN     179.000000     NaN   \n",
       "75%       227.461000     NaN  ...     NaN      NaN     503.000000     NaN   \n",
       "max       380.014900     NaN  ...     NaN      NaN    3818.000000     NaN   \n",
       "\n",
       "       DIC1  DIC2  TA1  TA2  pH2  pH1  \n",
       "count   0.0   0.0  0.0  0.0  0.0  0.0  \n",
       "mean    NaN   NaN  NaN  NaN  NaN  NaN  \n",
       "std     NaN   NaN  NaN  NaN  NaN  NaN  \n",
       "min     NaN   NaN  NaN  NaN  NaN  NaN  \n",
       "25%     NaN   NaN  NaN  NaN  NaN  NaN  \n",
       "50%     NaN   NaN  NaN  NaN  NaN  NaN  \n",
       "75%     NaN   NaN  NaN  NaN  NaN  NaN  \n",
       "max     NaN   NaN  NaN  NaN  NaN  NaN  \n",
       "\n",
       "[8 rows x 70 columns]"
      ]
     },
     "execution_count": 4,
     "metadata": {},
     "output_type": "execute_result"
    }
   ],
   "source": [
    "# Select a random subset from the complete dataset\n",
    "salinity_df = salinity_df.iloc[1:150000]\n",
    "salinity_df.rename(columns={'Salnty':'salinity'}, inplace=True)\n",
    "salinity_df.describe()"
   ]
  },
  {
   "cell_type": "markdown",
   "metadata": {
    "id": "TIcp8Uc5l9q7"
   },
   "source": [
    "### Data Cleaning\n",
    "Cleaning up the NULL and duplicate values in the dataset:\n",
    "1. Check for NULL percentages\n",
    "2. Drop attributes with more than 30% data missing\n",
    "3. Fill remaining NULLs with mean values\n",
    "4. Re-check NULL Percentages\n",
    "5. Check for duplicates"
   ]
  },
  {
   "cell_type": "markdown",
   "metadata": {
    "id": "69ZSd_8bmSoh"
   },
   "source": [
    "Check for NULL percentages"
   ]
  },
  {
   "cell_type": "code",
   "execution_count": 5,
   "metadata": {
    "colab": {
     "base_uri": "https://localhost:8080/"
    },
    "id": "r3Cf4vjfmThW",
    "outputId": "6465437d-d549-41f7-8c6e-36548889d6bc"
   },
   "outputs": [
    {
     "name": "stdout",
     "output_type": "stream",
     "text": [
      "                   Attr   Total  Percent\n",
      "0   DIC Quality Comment  149999    100.0\n",
      "1                  DIC1  149999    100.0\n",
      "2                SiO3uM  149999    100.0\n",
      "3                 NO2uM  149999    100.0\n",
      "4               R_PHAEO  149999    100.0\n",
      "5                 NO3uM  149999    100.0\n",
      "6                R_CHLA  149999    100.0\n",
      "7                 NH3uM  149999    100.0\n",
      "8                 R_NH4  149999    100.0\n",
      "9                C14As1  149999    100.0\n",
      "10               C14A1p  149999    100.0\n",
      "11                R_NO2  149999    100.0\n",
      "12               C14As2  149999    100.0\n",
      "13               C14A2p  149999    100.0\n",
      "14                R_NO3  149999    100.0\n",
      "15               DarkAs  149999    100.0\n",
      "16               DarkAp  149999    100.0\n",
      "17               MeanAs  149999    100.0\n",
      "18               MeanAp  149999    100.0\n",
      "19               R_SIO3  149999    100.0\n"
     ]
    }
   ],
   "source": [
    "nulls = salinity_df.isnull().sum().sort_values(ascending = False)\n",
    "prcet = round(nulls/len(salinity_df)*100,2)\n",
    "\n",
    "salinity_df_null = pd.DataFrame(columns =  ['Attr','Total','Percent'])\n",
    "salinity_df_null.Attr  = nulls.index\n",
    "salinity_df_null.Total = nulls.values\n",
    "salinity_df_null.Percent = prcet.values\n",
    "print(salinity_df_null.head(20))"
   ]
  },
  {
   "cell_type": "markdown",
   "metadata": {
    "id": "Scd7KGq0mkka"
   },
   "source": [
    "Drop attributes with more than 30% data missing"
   ]
  },
  {
   "cell_type": "code",
   "execution_count": 6,
   "metadata": {
    "id": "DcQEwJ-xmlv8"
   },
   "outputs": [],
   "source": [
    "for i in salinity_df_null.Attr[salinity_df_null['Percent'] > 30]:\n",
    "    salinity_df = salinity_df.drop([i], axis=1)"
   ]
  },
  {
   "cell_type": "markdown",
   "metadata": {
    "id": "VzbtG-msmpKN"
   },
   "source": [
    "Fill remaining NULLs with mode values"
   ]
  },
  {
   "cell_type": "code",
   "execution_count": 7,
   "metadata": {
    "id": "Xu35_pSEmp67"
   },
   "outputs": [],
   "source": [
    "for i in salinity_df.columns:\n",
    "    if salinity_df[i].isnull().sum() > 0:\n",
    "        salinity_df[i].fillna(salinity_df[i].mode().mean(), inplace=True)"
   ]
  },
  {
   "cell_type": "markdown",
   "metadata": {
    "id": "TsGEUUKGms2V"
   },
   "source": [
    "Re-check NULL Percentages"
   ]
  },
  {
   "cell_type": "code",
   "execution_count": 8,
   "metadata": {
    "colab": {
     "base_uri": "https://localhost:8080/"
    },
    "id": "C6n9pu76muN-",
    "outputId": "6c8fb157-9338-42fa-d5f9-b474b24bf82f"
   },
   "outputs": [
    {
     "name": "stdout",
     "output_type": "stream",
     "text": [
      "      Attr  Total  Percent\n",
      "0  Cst_Cnt      0      0.0\n",
      "1  Btl_Cnt      0      0.0\n",
      "2     R_O2      0      0.0\n",
      "3  R_DYNHT      0      0.0\n",
      "4    R_SVA      0      0.0\n"
     ]
    }
   ],
   "source": [
    "nulls = salinity_df.isnull().sum().sort_values(ascending = False)\n",
    "prcet = round(nulls/len(salinity_df)*100,2)\n",
    "\n",
    "salinity_df_null = pd.DataFrame(columns =  ['Attr','Total','Percent'])\n",
    "salinity_df_null.Attr  = nulls.index\n",
    "salinity_df_null.Total = nulls.values\n",
    "salinity_df_null.Percent = prcet.values\n",
    "print(salinity_df_null.head())"
   ]
  },
  {
   "cell_type": "markdown",
   "metadata": {
    "id": "JUQCSM3Vmwzs"
   },
   "source": [
    "Check for Duplicated values"
   ]
  },
  {
   "cell_type": "code",
   "execution_count": 9,
   "metadata": {
    "colab": {
     "base_uri": "https://localhost:8080/"
    },
    "id": "PQUkV0vEmywX",
    "outputId": "8736cd09-7a09-4288-e0e8-9d8d6b734a3c"
   },
   "outputs": [
    {
     "name": "stdout",
     "output_type": "stream",
     "text": [
      "COUNT OF DUPLICATES:  0\n"
     ]
    }
   ],
   "source": [
    "print('COUNT OF DUPLICATES:  {}'.format(salinity_df.duplicated().sum()))"
   ]
  },
  {
   "cell_type": "markdown",
   "metadata": {
    "id": "D8Htxu6gnB6l"
   },
   "source": [
    "### Drop columns that cannot be Normalized \n",
    "* Cst_Cnt Auto-numbered Cast Count\n",
    "* Btl_Cnt Auto-numbered Bottle count\n",
    "* Sta_ID CalCOFI Line and Station\n",
    "* Depth_ID [Century]-[YY][MM][ShipCode]"
   ]
  },
  {
   "cell_type": "code",
   "execution_count": 10,
   "metadata": {
    "id": "hRXkb-_qnEbm"
   },
   "outputs": [],
   "source": [
    "drop_cols = ['Cst_Cnt', 'Btl_Cnt', 'Sta_ID', 'Depth_ID', 'Depthm',]\n",
    "salinity_df_norm = salinity_df.drop(drop_cols, axis=1)  #  data for normalization\n",
    "salinity_df_scale = salinity_df_norm.copy(deep=True)    #  backup data"
   ]
  },
  {
   "cell_type": "markdown",
   "metadata": {
    "id": "X7h27qexnMaq"
   },
   "source": [
    "Normalization"
   ]
  },
  {
   "cell_type": "code",
   "execution_count": 11,
   "metadata": {
    "id": "REXCCSo1nLVR"
   },
   "outputs": [],
   "source": [
    "salinity_df_scale = StandardScaler().fit_transform(salinity_df_scale)\n",
    "\n",
    "#  create dataframe\n",
    "salinity_df_norm = pd.DataFrame(salinity_df_scale, index=salinity_df_norm.index, columns=salinity_df_norm.columns)"
   ]
  },
  {
   "cell_type": "markdown",
   "metadata": {
    "id": "Q7Gt2Eynm79R"
   },
   "source": [
    "### Correlation of features with Salinity"
   ]
  },
  {
   "cell_type": "code",
   "execution_count": 12,
   "metadata": {
    "colab": {
     "base_uri": "https://localhost:8080/"
    },
    "id": "tk1wHtJbnbkD",
    "outputId": "59943963-e31a-4240-abc0-1df82e86c5f9"
   },
   "outputs": [
    {
     "name": "stdout",
     "output_type": "stream",
     "text": [
      "Columns with mode:0\n",
      " -  P_qual 0.0\n",
      " -  Chlqua 0.0\n",
      " -  Phaqua 0.0\n",
      " -  SiO3qu 0.0\n",
      " -  NO2q 0.0\n",
      " -  NO3q 0.0\n",
      " -  NH3q 0.0\n",
      " -  C14A1q 0.0\n",
      " -  C14A2q 0.0\n",
      " -  DarkAq 0.0\n",
      " -  MeanAq 0.0\n",
      "\n",
      "Correlation dataframe\n",
      "    Attributes  Correlation\n",
      "0     salinity     1.000000\n",
      "1   R_SALINITY     0.988342\n",
      "2       STheta     0.801297\n",
      "3      R_SIGMA     0.798108\n",
      "4      R_Depth     0.558394\n",
      "5       R_PRES     0.557899\n",
      "6      R_DYNHT     0.368071\n",
      "7       S_prec     0.272398\n",
      "8       RecInd     0.096597\n",
      "9       T_prec    -0.008383\n",
      "10      T_degC    -0.512014\n",
      "11      R_TEMP    -0.512014\n",
      "12    R_POTEMP    -0.597879\n",
      "13      O2ml_L    -0.672932\n",
      "14        R_O2    -0.672932\n",
      "15       R_SVA    -0.795032\n"
     ]
    }
   ],
   "source": [
    "salinity_df_norm.corr()\n",
    "\n",
    "#  Drop columns with mode = \"0.0\".  No impact on correlation\n",
    "print('Columns with mode:0')\n",
    "for i in salinity_df_norm.columns.tolist():\n",
    "    if (salinity_df_norm[i].mode()[0] == 0.0):\n",
    "        print(' - ',i,salinity_df_norm[i].mode()[0])\n",
    "        salinity_df_norm = salinity_df_norm.drop(i,axis=1)\n",
    "\n",
    "#  Create correlation dataframe\n",
    "print()\n",
    "print('Correlation dataframe')\n",
    "salinity_df_corr = pd.DataFrame(columns=['Attributes','Correlation'])\n",
    "salinity_df_corr.Attributes = salinity_df_norm.corr()['salinity'].sort_values(ascending=False).index\n",
    "salinity_df_corr.Correlation = salinity_df_norm.corr()['salinity'].sort_values(ascending=False).values\n",
    "print(salinity_df_corr)"
   ]
  },
  {
   "cell_type": "markdown",
   "metadata": {
    "id": "0al0Eot2oJoM"
   },
   "source": [
    "### Feature selection based on correlation with 'Salinity'"
   ]
  },
  {
   "cell_type": "code",
   "execution_count": 13,
   "metadata": {
    "id": "eGBZ40tIoW71"
   },
   "outputs": [],
   "source": [
    "salinity_df_norm = salinity_df_norm[['STheta','R_SIGMA','R_Depth','R_DYNHT','S_prec','RecInd','T_degC','O2ml_L','salinity']]\n",
    "\n",
    "x = salinity_df_norm.iloc[:,:-1]\n",
    "y = salinity_df_norm['salinity']"
   ]
  },
  {
   "cell_type": "code",
   "execution_count": 14,
   "metadata": {
    "colab": {
     "base_uri": "https://localhost:8080/",
     "height": 596
    },
    "id": "cTedxCCG3GTJ",
    "outputId": "46a31cc8-5e0c-45dc-bbb8-c2439a4d6220"
   },
   "outputs": [
    {
     "data": {
      "image/png": "[encoded data removed]",
      "text/plain": [
       "<Figure size 720x720 with 2 Axes>"
      ]
     },
     "metadata": {
      "needs_background": "light"
     },
     "output_type": "display_data"
    }
   ],
   "source": [
    "# Correlation matrix\n",
    "corr = x.corr()\n",
    "plt.figure(figsize=(10,10))\n",
    "sns.heatmap(corr, \n",
    "            annot=True, fmt=\".3f\",\n",
    "            xticklabels=corr.columns.values,\n",
    "            yticklabels=corr.columns.values)\n",
    "plt.show()"
   ]
  },
  {
   "cell_type": "markdown",
   "metadata": {},
   "source": [
    "- **Explain multicollinearity:** multicollinearity is the occurrence of correlation between two or more independent variables  \n",
    "- **Effects on the model:** multicollinearity can lead to misleading results, skewed results and unreliable results  \n",
    "- **Solving the multicollinearity problem:** identify  and leave one correlated independed variables for each group of correlated variables.  "
   ]
  },
  {
   "cell_type": "code",
   "execution_count": 15,
   "metadata": {},
   "outputs": [
    {
     "data": {
      "text/plain": [
       "STheta     101.462102\n",
       "R_SIGMA     92.896917\n",
       "R_Depth      2.946138\n",
       "R_DYNHT      2.541414\n",
       "S_prec       4.704880\n",
       "RecInd       4.159560\n",
       "T_degC       4.818564\n",
       "O2ml_L       2.117853\n",
       "dtype: float64"
      ]
     },
     "execution_count": 15,
     "metadata": {},
     "output_type": "execute_result"
    }
   ],
   "source": [
    "from statsmodels.stats.outliers_influence import variance_inflation_factor\n",
    "\n",
    "pd.Series(\n",
    "    [variance_inflation_factor(x.values, i) for i in range(x.shape[1])],\n",
    "    index=x.columns)"
   ]
  },
  {
   "cell_type": "code",
   "execution_count": 16,
   "metadata": {},
   "outputs": [
    {
     "data": {
      "text/html": [
       "<div>\n",
       "<style scoped>\n",
       "    .dataframe tbody tr th:only-of-type {\n",
       "        vertical-align: middle;\n",
       "    }\n",
       "\n",
       "    .dataframe tbody tr th {\n",
       "        vertical-align: top;\n",
       "    }\n",
       "\n",
       "    .dataframe thead th {\n",
       "        text-align: right;\n",
       "    }\n",
       "</style>\n",
       "<table border=\"1\" class=\"dataframe\">\n",
       "  <thead>\n",
       "    <tr style=\"text-align: right;\">\n",
       "      <th></th>\n",
       "      <th>STheta</th>\n",
       "      <th>R_Depth</th>\n",
       "      <th>R_DYNHT</th>\n",
       "      <th>S_prec</th>\n",
       "      <th>RecInd</th>\n",
       "      <th>T_degC</th>\n",
       "      <th>O2ml_L</th>\n",
       "    </tr>\n",
       "  </thead>\n",
       "  <tbody>\n",
       "    <tr>\n",
       "      <th>1</th>\n",
       "      <td>-0.624622</td>\n",
       "      <td>-0.854387</td>\n",
       "      <td>-0.901827</td>\n",
       "      <td>-1.257636</td>\n",
       "      <td>-1.027423</td>\n",
       "      <td>0.225308</td>\n",
       "      <td>-0.976462</td>\n",
       "    </tr>\n",
       "    <tr>\n",
       "      <th>2</th>\n",
       "      <td>-0.626518</td>\n",
       "      <td>-0.848992</td>\n",
       "      <td>-0.880146</td>\n",
       "      <td>0.795142</td>\n",
       "      <td>0.973309</td>\n",
       "      <td>0.225308</td>\n",
       "      <td>-0.976462</td>\n",
       "    </tr>\n",
       "    <tr>\n",
       "      <th>3</th>\n",
       "      <td>-0.636945</td>\n",
       "      <td>-0.824717</td>\n",
       "      <td>-0.836785</td>\n",
       "      <td>-1.257636</td>\n",
       "      <td>-1.027423</td>\n",
       "      <td>0.222997</td>\n",
       "      <td>-0.976462</td>\n",
       "    </tr>\n",
       "    <tr>\n",
       "      <th>4</th>\n",
       "      <td>-0.636945</td>\n",
       "      <td>-0.822019</td>\n",
       "      <td>-0.836785</td>\n",
       "      <td>0.795142</td>\n",
       "      <td>0.973309</td>\n",
       "      <td>0.222997</td>\n",
       "      <td>-0.976462</td>\n",
       "    </tr>\n",
       "    <tr>\n",
       "      <th>5</th>\n",
       "      <td>-0.629362</td>\n",
       "      <td>-0.795047</td>\n",
       "      <td>-0.771743</td>\n",
       "      <td>0.795142</td>\n",
       "      <td>0.973309</td>\n",
       "      <td>0.222997</td>\n",
       "      <td>-0.976462</td>\n",
       "    </tr>\n",
       "  </tbody>\n",
       "</table>\n",
       "</div>"
      ],
      "text/plain": [
       "     STheta   R_Depth   R_DYNHT    S_prec    RecInd    T_degC    O2ml_L\n",
       "1 -0.624622 -0.854387 -0.901827 -1.257636 -1.027423  0.225308 -0.976462\n",
       "2 -0.626518 -0.848992 -0.880146  0.795142  0.973309  0.225308 -0.976462\n",
       "3 -0.636945 -0.824717 -0.836785 -1.257636 -1.027423  0.222997 -0.976462\n",
       "4 -0.636945 -0.822019 -0.836785  0.795142  0.973309  0.222997 -0.976462\n",
       "5 -0.629362 -0.795047 -0.771743  0.795142  0.973309  0.222997 -0.976462"
      ]
     },
     "execution_count": 16,
     "metadata": {},
     "output_type": "execute_result"
    }
   ],
   "source": [
    "x.drop('R_SIGMA', axis=1, inplace=True)\n",
    "x.head()"
   ]
  },
  {
   "cell_type": "code",
   "execution_count": 17,
   "metadata": {
    "id": "_Nr0Uf3Ng0Zw"
   },
   "outputs": [],
   "source": [
    "X_train, X_test, y_train, y_test = train_test_split(x, y, test_size = 0.20, random_state = 42)"
   ]
  },
  {
   "cell_type": "markdown",
   "metadata": {
    "id": "YELTeftdhfdd"
   },
   "source": [
    "### Model building"
   ]
  },
  {
   "cell_type": "code",
   "execution_count": 18,
   "metadata": {
    "id": "MYGxd6EfjIeG"
   },
   "outputs": [],
   "source": [
    "def rmse(y_true, y_pred):\n",
    "    y_true, y_pred = np.array(y_true), np.array(y_pred)\n",
    "    return np.sqrt(mean_squared_error(y_true, y_pred))"
   ]
  },
  {
   "cell_type": "code",
   "execution_count": 19,
   "metadata": {
    "colab": {
     "base_uri": "https://localhost:8080/"
    },
    "id": "kPkttqckg_U5",
    "outputId": "fe698f34-c783-474c-b685-1a7906247b4e"
   },
   "outputs": [
    {
     "name": "stdout",
     "output_type": "stream",
     "text": [
      "R2 Score: 0.8112948100962617\n",
      "RMSE: 0.43093618771375974\n"
     ]
    }
   ],
   "source": [
    "linear_regressor = LinearRegression()\n",
    "linear_regressor.fit(X_train, y_train)\n",
    "\n",
    "y_pred = linear_regressor.predict(X_test)\n",
    "test_r2 = linear_regressor.score(X_test, y_test)\n",
    "print('R2 Score:', test_r2)\n",
    "print('RMSE:', rmse(y_test, y_pred))"
   ]
  },
  {
   "cell_type": "code",
   "execution_count": 20,
   "metadata": {},
   "outputs": [
    {
     "name": "stdout",
     "output_type": "stream",
     "text": [
      "1 features\n",
      "R2 Score: [0.62676026 0.63890046 0.66107875 0.63276999 0.6487546 ]\n",
      "RMSE: 0.5936400718861823\n",
      "\n",
      "2 features\n",
      "R2 Score: [0.66785335 0.67797504 0.70034846 0.6738132  0.69172931]\n",
      "RMSE: 0.5589752139208793\n",
      "\n",
      "3 features\n",
      "R2 Score: [0.74802408 0.75197073 0.76664261 0.74734103 0.76376117]\n",
      "RMSE: 0.4903884826419779\n",
      "\n",
      "4 features\n",
      "R2 Score: [0.80606471 0.80219861 0.81541729 0.80575328 0.81475436]\n",
      "RMSE: 0.4337756230958877\n",
      "\n",
      "5 features\n",
      "R2 Score: [0.80682603 0.80286982 0.81742937 0.80765068 0.81619996]\n",
      "RMSE: 0.43222063081973944\n",
      "\n",
      "6 features\n",
      "R2 Score: [0.80758445 0.80374365 0.81792438 0.80833278 0.81642054]\n",
      "RMSE: 0.43154798552845935\n",
      "\n"
     ]
    }
   ],
   "source": [
    "for i in range(1, X_train.shape[1]):\n",
    "    print(f'{i} features')\n",
    "    rfe = RFE(LinearRegression(), n_features_to_select=i, step=1) # incrementing number of features\n",
    "    rfe.fit(X_train, y_train)\n",
    "    y_pred = rfe.predict(X_test)\n",
    "    # test_r2 = rfe.score(X_test, y_test)\n",
    "    test_r2 = cross_val_score(rfe, X_test, y_test, cv=5) # cross validating\n",
    "    print('R2 Score:', test_r2)\n",
    "    print(f'RMSE: {rmse(y_test, y_pred)}\\n')\n",
    "\n"
   ]
  },
  {
   "cell_type": "code",
   "execution_count": 21,
   "metadata": {},
   "outputs": [
    {
     "name": "stdout",
     "output_type": "stream",
     "text": [
      "cross validation R2 scores: [0.68503775 0.75973327 0.81193123 0.81351355 0.81394542 0.81422489]\n"
     ]
    }
   ],
   "source": [
    "\n",
    "rfecv = RFECV(\n",
    "    estimator=LinearRegression(),\n",
    "    min_features_to_select=2,\n",
    "    step=1,\n",
    "    scoring=\"r2\",\n",
    "    cv=5\n",
    ")\n",
    "\n",
    "rfecv.fit(X_train, y_train)\n",
    "y_pred = rfecv.predict(X_test)\n",
    "\n",
    "test_r2 = rfecv.score(X_test, y_test)\n",
    "\n",
    "print(f'cross validation R2 scores: {rfecv.grid_scores_}')"
   ]
  },
  {
   "cell_type": "markdown",
   "metadata": {},
   "source": [
    "###     i. Gradient Boosting Regressor (3 marks)"
   ]
  },
  {
   "cell_type": "code",
   "execution_count": 22,
   "metadata": {},
   "outputs": [
    {
     "data": {
      "text/plain": [
       "GradientBoostingRegressor(n_estimators=151, random_state=2022)"
      ]
     },
     "execution_count": 22,
     "metadata": {},
     "output_type": "execute_result"
    }
   ],
   "source": [
    "gbr_model = GradientBoostingRegressor(random_state=STATE)\n",
    "parameters = {\n",
    "    'n_estimators':np.arange(1,200,50)\n",
    "}\n",
    "\n",
    "gbr_gscv = GridSearchCV(estimator=gbr_model, param_grid=parameters, cv=5)\n",
    "gbr_gscv.fit(X_train, y_train)\n",
    "gbr_model = gbr_gscv.best_estimator_\n",
    "gbr_model"
   ]
  },
  {
   "cell_type": "code",
   "execution_count": 23,
   "metadata": {},
   "outputs": [
    {
     "name": "stdout",
     "output_type": "stream",
     "text": [
      "R2 Score: 0.9695056549783737\n",
      "RMSE: 0.1732330285061775\n"
     ]
    }
   ],
   "source": [
    "\n",
    "gbr_model.fit(X_train, y_train)\n",
    "y_pred = gbr_model.predict(X_test)\n",
    "\n",
    "test_r2 = gbr_model.score(X_test, y_test)\n",
    "print('R2 Score:', test_r2)\n",
    "print('RMSE:', rmse(y_test, y_pred))"
   ]
  },
  {
   "cell_type": "markdown",
   "metadata": {
    "id": "25e5VaV7QsLx",
    "tags": []
   },
   "source": [
    "### ii. Random Forest Regressor (3 marks)"
   ]
  },
  {
   "cell_type": "code",
   "execution_count": 24,
   "metadata": {},
   "outputs": [
    {
     "data": {
      "text/plain": [
       "RandomForestRegressor(n_estimators=101, random_state=2022)"
      ]
     },
     "execution_count": 24,
     "metadata": {},
     "output_type": "execute_result"
    }
   ],
   "source": [
    "# fit random forest model\n",
    "rfr_model = RandomForestRegressor(random_state=STATE)\n",
    "rfr_model\n",
    "\n",
    "parameters = {\n",
    "    'n_estimators':np.arange(1,200,50)\n",
    "}\n",
    "\n",
    "rfr_gscv = GridSearchCV(estimator=rfr_model, param_grid=parameters, cv=5)\n",
    "rfr_gscv.fit(X_train, y_train)\n",
    "rfr_model = rfr_gscv.best_estimator_\n",
    "rfr_model"
   ]
  },
  {
   "cell_type": "code",
   "execution_count": 25,
   "metadata": {},
   "outputs": [
    {
     "name": "stdout",
     "output_type": "stream",
     "text": [
      "R2 Score: 0.9904257262924633\n",
      "RMSE: 0.09706752639037065\n"
     ]
    }
   ],
   "source": [
    "rfr_model.fit(X_train, y_train)\n",
    "y_pred = rfr_model.predict(X_test)\n",
    "\n",
    "test_r2 = rfr_model.score(X_test, y_test)\n",
    "print('R2 Score:', test_r2)\n",
    "print('RMSE:', rmse(y_test, y_pred))"
   ]
  },
  {
   "cell_type": "markdown",
   "metadata": {
    "id": "RmU9k5IMfekB"
   },
   "source": [
    "### iii. ADA Boost Regressor (3 marks)"
   ]
  },
  {
   "cell_type": "code",
   "execution_count": 26,
   "metadata": {},
   "outputs": [
    {
     "data": {
      "text/plain": [
       "AdaBoostRegressor(n_estimators=51, random_state=2022)"
      ]
     },
     "execution_count": 26,
     "metadata": {},
     "output_type": "execute_result"
    }
   ],
   "source": [
    "abr_model = AdaBoostRegressor(random_state=STATE)\n",
    "abr_model\n",
    "\n",
    "parameters = {\n",
    "    'n_estimators':np.arange(1,200,50)\n",
    "}\n",
    "\n",
    "abr_gscv = GridSearchCV(estimator=abr_model, param_grid=parameters, cv=5)\n",
    "abr_gscv.fit(X_train, y_train)\n",
    "abr_model = abr_gscv.best_estimator_\n",
    "abr_model"
   ]
  },
  {
   "cell_type": "code",
   "execution_count": 27,
   "metadata": {},
   "outputs": [
    {
     "name": "stdout",
     "output_type": "stream",
     "text": [
      "R2 Score: 0.8094275752459686\n",
      "RMSE: 0.43306299284773875\n"
     ]
    }
   ],
   "source": [
    "abr_model.fit(X_train, y_train)\n",
    "y_pred = abr_model.predict(X_test)\n",
    "\n",
    "test_r2 = abr_model.score(X_test, y_test)\n",
    "print('R2 Score:', test_r2)\n",
    "print('RMSE:', rmse(y_test, y_pred))"
   ]
  },
  {
   "cell_type": "markdown",
   "metadata": {},
   "source": [
    "### Production"
   ]
  },
  {
   "cell_type": "code",
   "execution_count": 28,
   "metadata": {},
   "outputs": [
    {
     "name": "stdout",
     "output_type": "stream",
     "text": [
      "R2 Score: 0.9904257262924633\n",
      "RMSE: 0.09706752639037065\n"
     ]
    }
   ],
   "source": [
    "rfr_model.fit(X_train, y_train)\n",
    "y_pred = rfr_model.predict(X_test)\n",
    "\n",
    "test_r2 = rfr_model.score(X_test, y_test)\n",
    "print('R2 Score:', test_r2)\n",
    "print('RMSE:', rmse(y_test, y_pred))"
   ]
  },
  {
   "cell_type": "markdown",
   "metadata": {},
   "source": [
    "Random Forest Regressor performed the best. Because it is bootstrapping and aggregating, instead of boosting."
   ]
  }
 ],
 "metadata": {
  "colab": {
   "collapsed_sections": [],
   "name": "Copy of Vector Institute: Assignment 3.ipynb",
   "provenance": []
  },
  "kernelspec": {
   "display_name": "Python 3 (ipykernel)",
   "language": "python",
   "name": "python3"
  },
  "language_info": {
   "codemirror_mode": {
    "name": "ipython",
    "version": 3
   },
   "file_extension": ".py",
   "mimetype": "text/x-python",
   "name": "python",
   "nbconvert_exporter": "python",
   "pygments_lexer": "ipython3",
   "version": "3.8.12"
  }
 },
 "nbformat": 4,
 "nbformat_minor": 4
}
